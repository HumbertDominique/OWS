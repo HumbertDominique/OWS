{
 "cells": [
  {
   "cell_type": "markdown",
   "metadata": {},
   "source": []
  },
  {
   "cell_type": "code",
   "execution_count": null,
   "metadata": {},
   "outputs": [],
   "source": [
    "%matplotlib ipympl\n",
    "import numpy as np\n",
    "from numpy.fft import  ifft2, ifftshift\n",
    "from numpy.random import default_rng as randn\n",
    "#from scipy.special import kv as beselk\n",
    "from matplotlib import pyplot as plt\n",
    "from ipywidgets import interact, widgets\n",
    "from ows import ows\n",
    "import time\n",
    "\n",
    "rad2asec = 3600 * 180/np.pi\n",
    "asec2rad = 1/rad2asec"
   ]
  },
  {
   "cell_type": "markdown",
   "metadata": {},
   "source": [
    "## PSD\n",
    "Power spectrum density"
   ]
  },
  {
   "cell_type": "code",
   "execution_count": null,
   "metadata": {},
   "outputs": [],
   "source": [
    "dimmat = 2**7   # Matrix size\n",
    "\n",
    "r0 = .1\n",
    "L0 = -1\n",
    "\n",
    "FoV = 25 # arcsec\n",
    "Npx = 1000 # image plane pixels qty\n",
    "\n",
    "Daf = asec2rad*FoV/Npx # [rad/px]  (Numerical aperture)\n",
    "wl = 500e-9 # [m]\n",
    "\n",
    "dfp = Daf/wl # [/m] Pupil plane spatial frequency pixel size (Numerical aperture/WL)\n",
    "dxp = 1/(dfp*dimmat) # Pupil plane pixel size\n",
    "#DFP = 1/dxp/dimmat\n",
    "#D = dimmat\n",
    "#dxp = D/dimmat\n",
    "print(dxp)\n",
    "PSD = ows.psd(dimmat, dxp, r0, wl)\n",
    "\n",
    "plt.close(1)\n",
    "plt.figure(1)\n",
    "plt.imshow(PSD**(1/8))\n",
    "plt.title(\"Phase spectrum density ^(1/8)\")\n",
    "plt.colorbar()"
   ]
  },
  {
   "cell_type": "markdown",
   "metadata": {},
   "source": [
    "## Phase screen"
   ]
  },
  {
   "cell_type": "code",
   "execution_count": null,
   "metadata": {},
   "outputs": [],
   "source": [
    "SEED = 1\n",
    "\n",
    "start = time.time()\n",
    "\n",
    "[phase_screen, psf] = ows.phase_screen(PSD, dxp, SEED, PUPIL = True)\n",
    "\n",
    "end = time.time()\n",
    "\n",
    "\n",
    "print(\"Processingtime :\",\n",
    "      (end-start) * 10**3, \"ms\")\n",
    "\n",
    "plt.close(4)\n",
    "plt.figure(4)\n",
    "plt.imshow(phase_screen)\n",
    "plt.title(\"phase screen\")\n",
    "plt.colorbar()\n",
    "plt.show()\n",
    "plt.close(5)\n",
    "plt.figure(5)\n",
    "plt.imshow((np.abs(psf)**(1/2)))\n",
    "plt.title(\"PSF^(1/2)\")\n",
    "plt.colorbar()\n",
    "plt.show()\n"
   ]
  },
  {
   "cell_type": "markdown",
   "metadata": {},
   "source": []
  },
  {
   "cell_type": "code",
   "execution_count": null,
   "metadata": {},
   "outputs": [],
   "source": [
    "from astropy.io import fits\n",
    "\n",
    "def normalize(data):\n",
    "    min_val = np.min(data)\n",
    "    max_val = np.max(data)\n",
    "    return (data - min_val) / (max_val - min_val)\n",
    "\n",
    "phase_screen_normilized = normalize(phase_screen)\n",
    "psf_normalized = normalize(psf)\n",
    "\n",
    "fits.writeto('data/phase_screen.fits', phase_screen, overwrite=True)\n",
    "fits.writeto('data/phase_screen_normalized.fits', phase_screen_normilized, overwrite=True)\n",
    "fits.writeto('data/psf.fits', psf, overwrite=True)\n",
    "fits.writeto('data/psf_normalized.fits', psf_normalized, overwrite=True)\n",
    "\n",
    "input_infos = f\"ro,{r0:f},m\\nWL,{wl:g},m\\ndxp,{dxp:f},\\nseed,{1},\"\n",
    "with open('data/inputs.txt', 'w') as f:\n",
    "    f.write(input_infos)"
   ]
  }
 ],
 "metadata": {
  "kernelspec": {
   "display_name": ".venv",
   "language": "python",
   "name": "python3"
  },
  "language_info": {
   "codemirror_mode": {
    "name": "ipython",
    "version": 3
   },
   "file_extension": ".py",
   "mimetype": "text/x-python",
   "name": "python",
   "nbconvert_exporter": "python",
   "pygments_lexer": "ipython3",
   "version": "3.12.9"
  }
 },
 "nbformat": 4,
 "nbformat_minor": 2
}
