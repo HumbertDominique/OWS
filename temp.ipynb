{
 "cells": [
  {
   "cell_type": "markdown",
   "metadata": {},
   "source": []
  },
  {
   "cell_type": "code",
   "execution_count": 2,
   "metadata": {},
   "outputs": [],
   "source": [
    "%matplotlib ipympl\n",
    "import numpy as np\n",
    "from numpy.fft import  ifft2, ifftshift\n",
    "#from scipy.special import kv as beselk\n",
    "from matplotlib import pyplot as plt\n",
    "from ipywidgets import interact, widgets\n",
    "from ows import ows\n",
    "import time\n",
    "import multiprocessing\n",
    "rad2asec = 3600 * 180/np.pi\n",
    "asec2rad = 1/rad2asec"
   ]
  },
  {
   "cell_type": "markdown",
   "metadata": {},
   "source": [
    "## PSD\n",
    "Power spectrum density"
   ]
  },
  {
   "cell_type": "code",
   "execution_count": 3,
   "metadata": {},
   "outputs": [],
   "source": [
    "N = 128  # Matrix size\n",
    "r0 = .1\n",
    "L0 = -1\n",
    "l0 = .1\n",
    "px_size = 3.5e-6\n",
    "\n",
    "def psd(N, r0, dx, l0 = 0, L0 = -1):\n",
    "    Df = 1/(N*dx) \n",
    "    fx = np.linspace(-N/2,N/2-1,N)* Df\n",
    "    fpcoohfx, fpcoohfy = np.meshgrid(fx,fx) # Since it will be computed anyways, fpcoohfy will be used instead of rotating the xmatrix.\n",
    "    xpcoohf = np.zeros((N,N))\n",
    "    for i in range(N):\n",
    "        for j in range(N):\n",
    "            xpcoohf[i][j]= np.sqrt(fpcoohfx[i][j]**2 + fpcoohfy[i][j]**2)  # pupil plane coordianate radius\n",
    "\n",
    "\n",
    "          \n",
    "    Watm = np.zeros((N,N)).astype(float)\n",
    "    # TODO: Check if it is necessary to check weather (px.val <= 0)\n",
    "    if L0 == -1:\n",
    "        #TODO: Evaluate wheather it is necessary to check weather (px.val <= 0)\n",
    "        for i in range(N):\n",
    "            for j in range(N):\n",
    "                if fpcoohfx[i][j]**2 + fpcoohfy[i][j]**2 != 0:\n",
    "                    Watm[i][j] = 0.022896/(r0**(5/3))*(fpcoohfx[i][j]**2 + fpcoohfy[i][j]**2)**(-11/6)\n",
    "    else:\n",
    "        Watm = 0.022896/(r0**(5/3))*(fpcoohfx**2+fpcoohfy**2 +1/(L0**2))**(-11/6)\n",
    "    PSD = Watm#*dphi\n",
    "    PSD[int(N/2), int(N/2)] = 0\n",
    "    return PSD\n",
    "PSD = ows.psd(N, r0, px_size, l0, L0)\n"
   ]
  },
  {
   "cell_type": "markdown",
   "metadata": {},
   "source": [
    "## Phase screen"
   ]
  },
  {
   "cell_type": "code",
   "execution_count": 4,
   "metadata": {},
   "outputs": [],
   "source": [
    "# Replace tmp1 and tmp2 to be more explicit\n",
    "# They are currenty used in order to make it easier to compare with the original code\n",
    "rad2asec = 3600 * 180/np.pi\n",
    "asec2rad = 1/rad2asec\n",
    "\n",
    "SEED = None\n",
    "FoV = 60 # arcsec\n",
    "Npx = 540 # image plane pixels qty\n",
    "Daf = 0.01#asec2rad*FoV/Npx # [rad/px]  (Numerical aperture)\n",
    "\n",
    "wl = 500e-9 # [m]\n",
    "dfp = Daf/wl # [/m] Pupil plane spatial frequency pixel size (Numerical aperture/WL)\n",
    "dxp = 1/(dfp*N) # Pupil plane pixel size"
   ]
  },
  {
   "cell_type": "code",
   "execution_count": null,
   "metadata": {},
   "outputs": [],
   "source": [
    "n = 2000\n",
    "def temp(n,N,PSD,dxp):\n",
    "    for i in range(n):\n",
    "        #phase_screen = ows.phase_screen(N, PSD, dxp)\n",
    "        i =1\n",
    "    return\n",
    "\n",
    "p1 = multiprocessing.Process(target=temp, args=(n, N, PSD, dxp))\n",
    "p2 = multiprocessing.Process(target=temp, args=(n, N, PSD, dxp))\n",
    "p3 = multiprocessing.Process(target=temp, args=(n, N, PSD, dxp))\n",
    "p4 = multiprocessing.Process(target=temp, args=(n, N, PSD, dxp))\n",
    "p5 = multiprocessing.Process(target=temp, args=(n, N, PSD, dxp))\n",
    "\n",
    "start = time.time()\n",
    "temp(n,N,PSD,dxp)\n",
    "if __name__ == '__main__':\n",
    "    p1.start()\n",
    "    # p2.start()\n",
    "    # p3.start()\n",
    "    # p4.start()\n",
    "    # p5.start()\n",
    "    print('Waiting for the process...')\n",
    "    print(p1.is_alive())\n",
    "    p1.join()\n",
    "    # p2.join()\n",
    "    # p3.join()\n",
    "    # p4.join()\n",
    "    # p5.join()\n",
    "\n",
    "end = time.time()\n",
    "\n",
    "\n",
    "print(\"Processingtime :\",\n",
    "      (end-start) * 10**3, \"ms\")\n",
    "\n",
    "plt.close(3)\n",
    "plt.figure(3)\n",
    "plt.imshow(np.imag(phase_screen))\n",
    "plt.title(\"Phase Screen (imag)\")\n",
    "plt.colorbar()\n",
    "plt.show()\n"
   ]
  }
 ],
 "metadata": {
  "kernelspec": {
   "display_name": ".venv",
   "language": "python",
   "name": "python3"
  },
  "language_info": {
   "codemirror_mode": {
    "name": "ipython",
    "version": 3
   },
   "file_extension": ".py",
   "mimetype": "text/x-python",
   "name": "python",
   "nbconvert_exporter": "python",
   "pygments_lexer": "ipython3",
   "version": "3.12.9"
  }
 },
 "nbformat": 4,
 "nbformat_minor": 2
}
