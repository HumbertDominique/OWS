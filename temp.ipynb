{
 "cells": [
  {
   "cell_type": "markdown",
   "metadata": {},
   "source": []
  },
  {
   "cell_type": "code",
   "execution_count": null,
   "metadata": {},
   "outputs": [],
   "source": [
    "%matplotlib ipympl\n",
    "import matplotlib.pyplot as plt\n",
    "from ows import fouriertransform as mathft\n",
    "\n",
    "import numpy as np\n",
    "from numpy.fft import  ifft2, ifftshift\n",
    "from numpy.random import default_rng as randn\n",
    "#from scipy.special import kv as beselk\n",
    "from ipywidgets import interact, widgets\n",
    "from ows import ows\n",
    "import time\n",
    "from scipy import signal\n",
    "\n",
    "rad2asec = 3600 * 180/np.pi\n",
    "asec2rad = 1/rad2asec"
   ]
  },
  {
   "cell_type": "markdown",
   "metadata": {},
   "source": [
    "## PSD\n",
    "Power spectrum density"
   ]
  },
  {
   "cell_type": "code",
   "execution_count": null,
   "metadata": {},
   "outputs": [],
   "source": [
    "start = time.time()\n",
    "# Input\n",
    "\n",
    "dimmat = 128\n",
    "dxp = 0.003222887597610881 # Pupil plane pixel size\n",
    "r0 = .1\n",
    "L0 = 27\n",
    "D = 4\n",
    "wl = 500e-9 # [m]\n",
    "\n",
    "# Computing limit values\n",
    "FoV = 25*asec2rad # arcsec\n",
    "#Npx = 1000 # image plane pixels qty\n",
    "#Daf = asec2rad*FoV#/Npx # [rad/px]  (Numerical aperture)\n",
    "Daf = wl/(2*D) # max\n",
    "dfp = Daf/wl # [/m] Pupil plane spatial frequency pixel size (Numerical aperture/WL)\n",
    "dimpsf = 8*wl*np.sqrt((D/r0)**2 + 1)/(Daf*D)   # (min psf size) Matrix size\n",
    "print(\"Miminum matrix dimention :\",dimpsf)\n",
    "# dimmat = int(dimpsf)+int((dimpsf %1 !=0)*1)\n",
    "# dimmat += int((dimmat %2 != 0)*1)\n",
    "\n",
    "if dimmat < dimpsf:\n",
    "    print(f\"dimmat is too small: {dimmat:d}. It souhld be greater than {dimpsf:.1f}\")\n",
    "\n",
    "\n",
    "PSD = ows.psd(dimmat, dxp, r0, wl)\n",
    "# plt.close(1)\n",
    "# plt.figure(1)\n",
    "# plt.imshow(PSD**(1/8))\n",
    "# plt.title(\"Phase spectrum density ^(1/8)\")\n",
    "# plt.colorbar()"
   ]
  },
  {
   "cell_type": "markdown",
   "metadata": {},
   "source": [
    "## Phase screen & PSF"
   ]
  },
  {
   "cell_type": "code",
   "execution_count": null,
   "metadata": {},
   "outputs": [],
   "source": [
    "SEED = None\n",
    "\n",
    "[phase_screen, psf, pupil_mask, R] = ows.phase_screen(PSD, dxp, SEED, PUPIL = True)\n",
    "\n",
    "\n",
    "# plt.close(4)\n",
    "# plt.figure(4)\n",
    "# plt.imshow(phase_screen.real)\n",
    "# plt.title(\"phase screen\")\n",
    "# plt.colorbar()\n",
    "# plt.show()\n",
    "\n",
    "plt.close(5)\n",
    "plt.figure(5)\n",
    "plt.imshow((np.abs(psf)**(1/2)))\n",
    "plt.title(\"PSF^(1/2)\")\n",
    "plt.colorbar()\n",
    "plt.show()\n"
   ]
  },
  {
   "cell_type": "markdown",
   "metadata": {},
   "source": [
    "# Long exposure PSF"
   ]
  },
  {
   "cell_type": "code",
   "execution_count": null,
   "metadata": {},
   "outputs": [],
   "source": [
    "from scipy.special import gamma, kv\n",
    "\n",
    "\n",
    "def phase_structure_function(rho, r0, L0):\n",
    "    # Constants for the von Karman model\n",
    "    coef = 0.17166136 * (L0/r0)**(5/3)\n",
    "    const_term = 1.0056349\n",
    "    # Handle the case where rho is zero\n",
    "    D_phi = np.zeros_like(rho)\n",
    "    mask = rho > 0\n",
    "    # Apply the formula for non-zero rho\n",
    "    x = 2*np.pi*rho[mask]/L0\n",
    "    D_phi[mask] = coef * (const_term - x**(5/6) * kv(5/6, x))\n",
    "    return D_phi\n",
    "\n",
    "def telescope_otf(nu_n):\n",
    "    # Plain pupil case (no central obscuration)\n",
    "    otf = np.zeros_like(nu_n)\n",
    "    mask = nu_n <= 1\n",
    "    otf[mask] = (2/np.pi) * (np.arccos(nu_n[mask]) - nu_n[mask] * np.sqrt(1 - nu_n[mask]**2))\n",
    "    return otf\n",
    "    \n",
    "def atmospheric_otf(nu, r0, L0, wavelength):\n",
    "    rho = wavelength * nu\n",
    "    D_phi = phase_structure_function(rho, r0, L0)\n",
    "    otf_atm = np.exp(-0.5 * D_phi)\n",
    "    return otf_atm\n",
    "\n",
    "\n",
    "N = dimmat\n",
    "\n",
    "# Grid for OTF (frequency domain)\n",
    "delta_nu = 2*D/(N*wl)  # Angular frequency sampling\n",
    "nu_x = np.linspace(-N/2, N/2-1, N) * delta_nu\n",
    "NU_X, NU_Y = np.meshgrid(nu_x, nu_x)\n",
    "nu = np.sqrt(NU_X**2 + NU_Y**2)\n",
    "nu_n = nu * wl / D\n",
    "\n",
    "otf_tsc = telescope_otf(nu_n)\n",
    "otf_atm = atmospheric_otf(nu, r0, L0, wl)\n",
    "\n",
    "\n",
    "delta_x = wl / (2 * D)\n",
    "x = np.linspace(-N/2, N/2-1, N) * delta_x\n",
    "X, Y = np.meshgrid(x, x)\n",
    "rho_spatial = np.sqrt(X**2 + Y**2)\n",
    "\n",
    "\n",
    "\n",
    "otf_sl = otf_atm * otf_tsc\n",
    "\n",
    "\n",
    "otf_sl_pad = np.zeros((2*N,2*N))\n",
    "otf_sl_pad[0:N,0:N] = otf_sl\n",
    "\n",
    "\n",
    "\n",
    "psf = np.abs(np.fft.fftshift(np.fft.ifft2(np.fft.ifftshift(otf_sl_pad))))\n",
    "psf = psf / np.max(psf)\n",
    "\n",
    "plt.close(1)\n",
    "plt.figure(1)\n",
    "plt.imshow(psf)\n",
    "plt.title(\"1\")\n",
    "# plt.colorbar()\n",
    "plt.grid()\n",
    "plt.show()"
   ]
  },
  {
   "cell_type": "markdown",
   "metadata": {},
   "source": [
    "# Lenslet illumination mask"
   ]
  },
  {
   "cell_type": "markdown",
   "metadata": {},
   "source": [
    "# Lenslet array illumination"
   ]
  },
  {
   "cell_type": "markdown",
   "metadata": {},
   "source": [
    "# SHWFS\n",
    "\n",
    "## 1. Lenslet illumination mask\n",
    "-\n",
    "## 2. Lenslet array illumination\n",
    "Lenslet with coverage $\\geq$ 50\\% are considered.\n",
    "\n",
    "## 3. Wavefront slope\n",
    "\n",
    "\n",
    "Focal plane image:\n",
    "$$U_f= \\frac{1}{i\\lambda F}\\mathcal{F}\\{t_p(x,y)\\}$$\n",
    "\n",
    "where $t_p(x,y)$ is the object (the phase screen in this case)\n",
    "\n",
    "\n",
    "???\n",
    "\n",
    "2. Compute the spot centers\n",
    "\n",
    "$$x_{c,k} = \\frac{\\sum_{i\\in k}\\sum_{j\\in k} x_{i,j}I_{i,j}}{\\sum_{i\\in k}\\sum_{j\\in k} I_{i,j}}$$\n",
    "\n",
    "$$y_{c,k} = \\frac{\\sum_{i\\in k}\\sum_{j \\in k} y_{i,j}I_{i,j}}{\\sum_{i\\in k}\\sum_{j\\in k} I_{i,j}}$$\n",
    "\n",
    "3. Extract the WF slopes\n",
    "\n",
    "$$ \\begin{bmatrix}\\partial w /\\partial x \\\\ \\partial w/\\partial y\\end{bmatrix}_k = \\begin{bmatrix} \\beta_x\\\\\\beta_y \\end{bmatrix}_k \\approx \\frac{1}{L_H}\\begin{bmatrix} x_c - x_r\\\\y_c - y_r \\end{bmatrix}_k$$\n"
   ]
  },
  {
   "cell_type": "code",
   "execution_count": null,
   "metadata": {},
   "outputs": [],
   "source": [
    "from ows import fouriertransform as mathft\n",
    "\n",
    "### 1. focussing the sub-apetures + aperture centres\n",
    "F = 8e-3 #[m]\n",
    "N = 18\n",
    "\n",
    "\n",
    "\n",
    "[lightfield, DwDx, DyDx] = ows.SHWFS(dimmat, N, F, wl, pupil_mask, R, phase_screen, dxp, lenslet_pad=4)\n",
    "\n",
    "\n",
    "\n",
    "\n",
    "end = time.time()\n",
    "\n",
    "print(\"Processingtime :\",\n",
    "      (end-start) * 10**3, \"ms\")\n",
    "\n",
    "lightfield = normalize(lightfield)\n",
    "\n",
    "plt.close(8)\n",
    "plt.figure(8)\n",
    "plt.imshow(lightfield)\n",
    "plt.title(\"padded lightfield\")\n",
    "plt.show()\n",
    "\n",
    "# plt.close(9)\n",
    "# plt.figure(9)\n",
    "# plt.subplot(1,2,1)\n",
    "# plt.imshow(DwDx)\n",
    "# plt.title(\"Dw/Dx\")\n",
    "# plt.subplot(1,2,2)\n",
    "# plt.imshow(DwDy)\n",
    "# plt.title(\"Dw/Dy\")\n",
    "# plt.show()\n",
    "\n"
   ]
  },
  {
   "cell_type": "markdown",
   "metadata": {},
   "source": [
    "# Saves"
   ]
  },
  {
   "cell_type": "code",
   "execution_count": null,
   "metadata": {},
   "outputs": [],
   "source": [
    "from astropy.io import fits\n",
    "\n",
    "def normalize(data):\n",
    "    min_val = np.min(data)\n",
    "    max_val = np.max(data)\n",
    "    return (data - min_val) / (max_val - min_val)\n",
    "\n",
    "# phase_screen_normilized = normalize(phase_screen)\n",
    "# psf_normalized = normalize(psf)\n",
    "\n",
    "# fits.writeto('data/phase_screen.fits', phase_screen, overwrite=True)\n",
    "# fits.writeto('data/phase_screen_normalized.fits', phase_screen_normilized, overwrite=True)\n",
    "# fits.writeto('data/psf.fits', psf, overwrite=True)\n",
    "# fits.writeto('data/psf_normalized.fits', psf_normalized, overwrite=True)\n",
    "\n",
    "# input_infos = f\"ro,{r0:f},m\\nWL,{wl:g},m\\ndxp,{dxp:f},\\nseed,{1},\"\n",
    "# with open('data/inputs.txt', 'w') as f:\n",
    "#     f.write(input_infos)"
   ]
  }
 ],
 "metadata": {
  "kernelspec": {
   "display_name": ".venv",
   "language": "python",
   "name": "python3"
  },
  "language_info": {
   "codemirror_mode": {
    "name": "ipython",
    "version": 3
   },
   "file_extension": ".py",
   "mimetype": "text/x-python",
   "name": "python",
   "nbconvert_exporter": "python",
   "pygments_lexer": "ipython3",
   "version": "3.12.9"
  }
 },
 "nbformat": 4,
 "nbformat_minor": 2
}
