{
 "cells": [
  {
   "cell_type": "markdown",
   "metadata": {},
   "source": []
  },
  {
   "cell_type": "code",
   "execution_count": null,
   "metadata": {},
   "outputs": [],
   "source": [
    "%matplotlib ipympl\n",
    "import matplotlib.pyplot as plt\n",
    "import numpy as np\n",
    "from numpy.fft import  ifft2, ifftshift\n",
    "from numpy.random import default_rng as randn\n",
    "#from scipy.special import kv as beselk\n",
    "from ipywidgets import interact, widgets\n",
    "from ows import ows\n",
    "import time\n",
    "\n",
    "rad2asec = 3600 * 180/np.pi\n",
    "asec2rad = 1/rad2asec"
   ]
  },
  {
   "cell_type": "markdown",
   "metadata": {},
   "source": [
    "## PSD\n",
    "Power spectrum density"
   ]
  },
  {
   "cell_type": "code",
   "execution_count": null,
   "metadata": {},
   "outputs": [],
   "source": [
    "start = time.time()\n",
    "# Input\n",
    "\n",
    "dimmat = 128\n",
    "dxp = 0.03222887597610881 # Pupil plane pixel size\n",
    "r0 = .1\n",
    "L0 = -1\n",
    "D = 0.01\n",
    "wl = 500e-9 # [m]\n",
    "\n",
    "# Computing limit values\n",
    "FoV = 25*asec2rad # arcsec\n",
    "#Npx = 1000 # image plane pixels qty\n",
    "#Daf = asec2rad*FoV#/Npx # [rad/px]  (Numerical aperture)\n",
    "Daf = wl/(2*D) # max\n",
    "dfp = Daf/wl # [/m] Pupil plane spatial frequency pixel size (Numerical aperture/WL)\n",
    "dimpsf = 8*wl*np.sqrt((D/r0)**2 + 1)/(Daf*D)   # (min psf size) Matrix size\n",
    "print(\"Miminum matrix dimention :\",dimpsf)\n",
    "# dimmat = int(dimpsf)+int((dimpsf %1 !=0)*1)\n",
    "# dimmat += int((dimmat %2 != 0)*1)\n",
    "\n",
    "if dimmat < dimpsf:\n",
    "    print(f\"dimmat is too small: {dimmat:d}. It souhld be greater than {dimpsf:.1f}\")\n",
    "\n",
    "\n",
    "PSD = ows.psd(dimmat, dxp, r0, wl)\n",
    "# plt.close(1)\n",
    "# plt.figure(1)\n",
    "# plt.imshow(PSD**(1/8))\n",
    "# plt.title(\"Phase spectrum density ^(1/8)\")\n",
    "# plt.colorbar()"
   ]
  },
  {
   "cell_type": "markdown",
   "metadata": {},
   "source": [
    "## Phase screen & PSF"
   ]
  },
  {
   "cell_type": "code",
   "execution_count": null,
   "metadata": {},
   "outputs": [],
   "source": [
    "SEED = 1\n",
    "\n",
    "\n",
    "\n",
    "[phase_screen, psf, pupil_mask, R] = ows.phase_screen(PSD, dxp, SEED, PUPIL = True)\n",
    "\n",
    "\n",
    "# plt.close(4)\n",
    "# plt.figure(4)\n",
    "# plt.imshow(phase_screen.real)\n",
    "# plt.title(\"phase screen\")\n",
    "# plt.colorbar()\n",
    "\n",
    "# plt.show()\n",
    "# plt.close(5)\n",
    "# plt.figure(5)\n",
    "# plt.imshow((np.abs(psf)**(1/2)))\n",
    "# plt.title(\"PSF^(1/2)\")\n",
    "# plt.colorbar()\n",
    "# plt.show()\n"
   ]
  },
  {
   "cell_type": "markdown",
   "metadata": {},
   "source": [
    "# Lenslet illumination mask"
   ]
  },
  {
   "cell_type": "markdown",
   "metadata": {},
   "source": [
    "# Lenslet array illumination"
   ]
  },
  {
   "cell_type": "markdown",
   "metadata": {},
   "source": [
    "# SHWFS\n",
    "\n",
    "## 1. Lenslet illumination mask\n",
    "-\n",
    "## 2. Lenslet array illumination\n",
    "Lenslet with coverage $\\geq$ 50\\% are considered.\n",
    "\n",
    "## 3. Wavefront slope\n",
    "\n",
    "\n",
    "Focal plane image:\n",
    "$$U_f= \\frac{1}{i\\lambda F}\\mathcal{F}\\{t_p(x,y)\\}$$\n",
    "\n",
    "where $t_p(x,y)$ is the object (the phase screen in this case)\n",
    "\n",
    "\n",
    "???\n",
    "\n",
    "2. Compute the spot centers\n",
    "\n",
    "$$x_{c,k} = \\frac{\\sum_{i\\in k}\\sum_{j\\in k} x_{i,j}I_{i,j}}{\\sum_{i\\in k}\\sum_{j\\in k} I_{i,j}}$$\n",
    "\n",
    "$$y_{c,k} = \\frac{\\sum_{i\\in k}\\sum_{j \\in k} y_{i,j}I_{i,j}}{\\sum_{i\\in k}\\sum_{j\\in k} I_{i,j}}$$\n",
    "\n",
    "3. Extract the WF slopes\n",
    "\n",
    "$$ \\begin{bmatrix}\\partial w /\\partial x \\\\ \\partial w/\\partial y\\end{bmatrix}_k = \\begin{bmatrix} \\beta_x\\\\\\beta_y \\end{bmatrix}_k \\approx \\frac{1}{L_H}\\begin{bmatrix} x_c - x_r\\\\y_c - y_r \\end{bmatrix}_k$$\n"
   ]
  },
  {
   "cell_type": "code",
   "execution_count": null,
   "metadata": {},
   "outputs": [],
   "source": [
    "from ows import fouriertransform as mathft\n",
    "\n",
    "### 1. focussing the sub-apetures + aperture centres\n",
    "F = 8e-3 #[m]\n",
    "N = 18\n",
    "\n",
    "\n",
    "\n",
    "[lightfield, DwDx, DyDx] = ows.SHWFS(dimmat, N, F, wl, pupil_mask, R, phase_screen, dxp, lenslet_pad=4)\n",
    "\n",
    "\n",
    "\n",
    "\n",
    "end = time.time()\n",
    "\n",
    "print(\"Processingtime :\",\n",
    "      (end-start) * 10**3, \"ms\")\n",
    "\n",
    "lightfield = normalize(lightfield)\n",
    "\n",
    "plt.close(8)\n",
    "plt.figure(8)\n",
    "plt.imshow(lightfield)\n",
    "plt.title(\"padded lightfield\")\n",
    "plt.show()\n",
    "\n",
    "# plt.close(9)\n",
    "# plt.figure(9)\n",
    "# plt.subplot(1,2,1)\n",
    "# plt.imshow(DwDx)\n",
    "# plt.title(\"Dw/Dx\")\n",
    "# plt.subplot(1,2,2)\n",
    "# plt.imshow(DwDy)\n",
    "# plt.title(\"Dw/Dy\")\n",
    "# plt.show()\n",
    "\n"
   ]
  },
  {
   "cell_type": "markdown",
   "metadata": {},
   "source": [
    "# Saves"
   ]
  },
  {
   "cell_type": "code",
   "execution_count": null,
   "metadata": {},
   "outputs": [],
   "source": [
    "from astropy.io import fits\n",
    "\n",
    "def normalize(data):\n",
    "    min_val = np.min(data)\n",
    "    max_val = np.max(data)\n",
    "    return (data - min_val) / (max_val - min_val)\n",
    "\n",
    "# phase_screen_normilized = normalize(phase_screen)\n",
    "# psf_normalized = normalize(psf)\n",
    "\n",
    "# fits.writeto('data/phase_screen.fits', phase_screen, overwrite=True)\n",
    "# fits.writeto('data/phase_screen_normalized.fits', phase_screen_normilized, overwrite=True)\n",
    "# fits.writeto('data/psf.fits', psf, overwrite=True)\n",
    "# fits.writeto('data/psf_normalized.fits', psf_normalized, overwrite=True)\n",
    "\n",
    "# input_infos = f\"ro,{r0:f},m\\nWL,{wl:g},m\\ndxp,{dxp:f},\\nseed,{1},\"\n",
    "# with open('data/inputs.txt', 'w') as f:\n",
    "#     f.write(input_infos)"
   ]
  }
 ],
 "metadata": {
  "kernelspec": {
   "display_name": ".venv",
   "language": "python",
   "name": "python3"
  },
  "language_info": {
   "codemirror_mode": {
    "name": "ipython",
    "version": 3
   },
   "file_extension": ".py",
   "mimetype": "text/x-python",
   "name": "python",
   "nbconvert_exporter": "python",
   "pygments_lexer": "ipython3",
   "version": "3.12.9"
  }
 },
 "nbformat": 4,
 "nbformat_minor": 2
}
