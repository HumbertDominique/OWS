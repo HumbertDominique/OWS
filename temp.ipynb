{
 "cells": [
  {
   "cell_type": "markdown",
   "metadata": {},
   "source": []
  },
  {
   "cell_type": "code",
   "execution_count": null,
   "metadata": {},
   "outputs": [],
   "source": [
    "%matplotlib ipympl\n",
    "import numpy as np\n",
    "from numpy.fft import  ifft2, ifftshift\n",
    "from numpy.random import default_rng as randn\n",
    "#from scipy.special import kv as beselk\n",
    "from matplotlib import pyplot as plt\n",
    "from ipywidgets import interact, widgets\n",
    "from ows import ows\n",
    "import time\n",
    "\n",
    "rad2asec = 3600 * 180/np.pi\n",
    "asec2rad = 1/rad2asec"
   ]
  },
  {
   "cell_type": "markdown",
   "metadata": {},
   "source": [
    "## PSD\n",
    "Power spectrum density"
   ]
  },
  {
   "cell_type": "code",
   "execution_count": null,
   "metadata": {},
   "outputs": [],
   "source": [
    "# Input\n",
    "dimmat = 128\n",
    "dxp = 0.03222887597610881 # Pupil plane pixel size\n",
    "r0 = .1\n",
    "L0 = -1\n",
    "D = 0.01\n",
    "wl = 500e-9 # [m]\n",
    "\n",
    "# Computing limit values\n",
    "FoV = 25*asec2rad # arcsec\n",
    "#Npx = 1000 # image plane pixels qty\n",
    "#Daf = asec2rad*FoV#/Npx # [rad/px]  (Numerical aperture)\n",
    "Daf = wl/(2*D) # max\n",
    "dfp = Daf/wl # [/m] Pupil plane spatial frequency pixel size (Numerical aperture/WL)\n",
    "dimpsf = 8*wl*np.sqrt((D/r0)**2 + 1)/(Daf*D)   # (min psf size) Matrix size\n",
    "print(\"Miminum matrix dimention :\",dimpsf)\n",
    "# dimmat = int(dimpsf)+int((dimpsf %1 !=0)*1)\n",
    "# dimmat += int((dimmat %2 != 0)*1)\n",
    "\n",
    "if dimmat < dimpsf:\n",
    "    print(f\"dimmat is too small: {dimmat:d}. It souhld be greater than {dimpsf:.1f}\")\n",
    "\n",
    "\n",
    "PSD = ows.psd(dimmat, dxp, r0, wl)\n",
    "#PSD[dimmat//2-1:dimmat//2+1,dimmat//2-1:dimmat//2+1] = 0\n",
    "plt.close(1)\n",
    "plt.figure(1)\n",
    "plt.imshow(PSD**(1/8))\n",
    "plt.title(\"Phase spectrum density ^(1/8)\")\n",
    "plt.colorbar()"
   ]
  },
  {
   "cell_type": "markdown",
   "metadata": {},
   "source": [
    "## Phase screen & PSF"
   ]
  },
  {
   "cell_type": "code",
   "execution_count": null,
   "metadata": {},
   "outputs": [],
   "source": [
    "SEED = 1\n",
    "\n",
    "start = time.time()\n",
    "\n",
    "[phase_screen, psf, pupil_mask, R] = ows.phase_screen(PSD, dxp, SEED, PUPIL = True, PD = [127,40])\n",
    "\n",
    "end = time.time()\n",
    "\n",
    "\n",
    "print(\"Processingtime :\",\n",
    "      (end-start) * 10**3, \"ms\")\n",
    "\n",
    "plt.close(4)\n",
    "plt.figure(4)\n",
    "plt.imshow(phase_screen.real)\n",
    "plt.title(\"phase screen\")\n",
    "plt.colorbar()\n",
    "\n",
    "plt.show()\n",
    "plt.close(5)\n",
    "plt.figure(5)\n",
    "plt.imshow((np.abs(psf)**(1/2)))\n",
    "plt.title(\"PSF^(1/2)\")\n",
    "plt.colorbar()\n",
    "plt.show()\n"
   ]
  },
  {
   "cell_type": "markdown",
   "metadata": {},
   "source": [
    "# Lenslet illumination mask"
   ]
  },
  {
   "cell_type": "code",
   "execution_count": null,
   "metadata": {},
   "outputs": [],
   "source": [
    "from astropy.io import fits\n",
    "\n",
    "# def normalize(data):\n",
    "#     min_val = np.min(data)\n",
    "#     max_val = np.max(data)\n",
    "#     return (data - min_val) / (max_val - min_val)\n",
    "\n",
    "# phase_screen_normilized = normalize(phase_screen)\n",
    "# psf_normalized = normalize(psf)\n",
    "\n",
    "# fits.writeto('data/phase_screen.fits', phase_screen, overwrite=True)\n",
    "# fits.writeto('data/phase_screen_normalized.fits', phase_screen_normilized, overwrite=True)\n",
    "# fits.writeto('data/psf.fits', psf, overwrite=True)\n",
    "# fits.writeto('data/psf_normalized.fits', psf_normalized, overwrite=True)\n",
    "\n",
    "# input_infos = f\"ro,{r0:f},m\\nWL,{wl:g},m\\ndxp,{dxp:f},\\nseed,{1},\"\n",
    "# with open('data/inputs.txt', 'w') as f:\n",
    "#     f.write(input_infos)"
   ]
  },
  {
   "cell_type": "markdown",
   "metadata": {},
   "source": [
    "# Lenslet array illumination"
   ]
  },
  {
   "cell_type": "code",
   "execution_count": null,
   "metadata": {},
   "outputs": [],
   "source": [
    "import itertools\n",
    "\n",
    "N = 16\n",
    "m = int(np.ceil(dimmat/N)) # By definition, the number of lenslets must be an integer\n",
    "if N%2 != 0:\n",
    "    padded_dim = m*(N) # N+1 in order to have a lenslet centered on the optical axis\n",
    "else:\n",
    "    padded_dim = m*(N+1)\n",
    "print(f\"Number of pixels per lenslets axis: {m}\")\n",
    "\n",
    "# Pad the pupil mask for illuminaiton computation\n",
    "padded_mask = np.zeros((padded_dim,padded_dim),int)\n",
    "padded_mask[(padded_dim-dimmat)//2:(padded_dim-dimmat)//2 + dimmat,(padded_dim-dimmat)//2:(padded_dim-dimmat)//2 + dimmat] = pupil_mask\n",
    "\n",
    "padded_phase_screen = np.zeros_like(padded_mask,np.float64)\n",
    "\n",
    "padded_phase_screen[(padded_dim-dimmat)//2:(padded_dim-dimmat)//2 + dimmat,(padded_dim-dimmat)//2:(padded_dim-dimmat)//2 + dimmat] = phase_screen\n",
    "\n",
    "\n",
    "lenslet_mask = np.zeros_like(padded_mask)\n",
    "lenslet_matrix = np.zeros((N,N))\n",
    "\n",
    "ii=0\n",
    "for i in range(0, padded_dim, m):\n",
    "    jj=0\n",
    "    for j in range(0, padded_dim, m):\n",
    "        lenslet = padded_mask[i:i+m, j:j+m]\n",
    "        if (lenslet.sum() >= (m*m)/2):\n",
    "            lenslet_mask[i:i+m, j:j+m] = 1\n",
    "            lenslet_matrix[ii,jj] = 1\n",
    "        jj += 1\n",
    "    ii +=1\n",
    "\n",
    "\n",
    "plt.close(6)\n",
    "plt.figure(6)\n",
    "plt.subplot(2,2,1)\n",
    "for i in range(1,N+1):\n",
    "    x = [0, padded_dim] \n",
    "    y = [m*i, m*i] \n",
    "    plt.plot(x, y, 'darkred', linewidth=2)\n",
    "for i in range(1,N+1):\n",
    "    x = [m*i, m*i] \n",
    "    y = [0, padded_dim] \n",
    "    plt.plot(x, y, 'darkred', linewidth=2)\n",
    "plt.imshow(padded_mask)\n",
    "plt.title(\"Padded pupil mask\")\n",
    "\n",
    "plt.subplot(2,2,2)\n",
    "for i in range(1,N+1):\n",
    "    x = [0, padded_dim] \n",
    "    y = [m*i, m*i] \n",
    "    plt.plot(x, y, 'darkred', linewidth=2)\n",
    "for i in range(1,N+1):\n",
    "    x = [m*i, m*i] \n",
    "    y = [0, padded_dim] \n",
    "    plt.plot(x, y, 'darkred', linewidth=2)\n",
    "plt.imshow(lenslet_mask)\n",
    "plt.title(\"Padded Lenslet mask\")\n",
    "\n",
    "plt.subplot(2,2,3)\n",
    "plt.imshow(lenslet_matrix)\n",
    "plt.minorticks_on()\n",
    "plt.grid(which='minor', linestyle='-', alpha=0.5)\n",
    "plt.grid(which='major', linestyle='-', alpha=0.5)\n",
    "plt.title(\"Padded lenslet matrix\")\n",
    "plt.show()\n",
    "\n",
    "plt.close(7)\n",
    "plt.figure(7)\n",
    "for i in range(1,N+1):\n",
    "    x = [0, padded_dim] \n",
    "    y = [m*i, m*i] \n",
    "    plt.plot(x, y, 'darkred', linewidth=2)\n",
    "for i in range(1,N+1):\n",
    "    x = [m*i, m*i] \n",
    "    y = [0, padded_dim] \n",
    "    plt.plot(x, y, 'darkred', linewidth=2)\n",
    "plt.imshow(padded_phase_screen*lenslet_mask,cmap=\"grey\")\n",
    "plt.title(\"Padded phase screen\\n masked for illumination >= 50% lenslet\")\n",
    "plt.show()"
   ]
  },
  {
   "cell_type": "markdown",
   "metadata": {},
   "source": [
    "# Wavefront slope"
   ]
  },
  {
   "cell_type": "code",
   "execution_count": null,
   "metadata": {},
   "outputs": [],
   "source": []
  }
 ],
 "metadata": {
  "kernelspec": {
   "display_name": ".venv",
   "language": "python",
   "name": "python3"
  },
  "language_info": {
   "codemirror_mode": {
    "name": "ipython",
    "version": 3
   },
   "file_extension": ".py",
   "mimetype": "text/x-python",
   "name": "python",
   "nbconvert_exporter": "python",
   "pygments_lexer": "ipython3",
   "version": "3.11.9"
  }
 },
 "nbformat": 4,
 "nbformat_minor": 2
}
