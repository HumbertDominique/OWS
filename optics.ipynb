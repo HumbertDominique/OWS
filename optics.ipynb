{
 "cells": [
  {
   "cell_type": "markdown",
   "metadata": {},
   "source": []
  },
  {
   "cell_type": "code",
   "execution_count": null,
   "metadata": {},
   "outputs": [],
   "source": [
    "%matplotlib widget\n",
    "import matplotlib.pyplot as plt\n",
    "from ows import fouriertransform as mathft\n",
    "from astropy.io import fits\n",
    "\n",
    "import numpy as np\n",
    "from ows import ows\n",
    "import time\n",
    "\n",
    "rad2asec = 3600 * 180/np.pi\n",
    "asec2rad = 1/rad2asec"
   ]
  },
  {
   "cell_type": "markdown",
   "metadata": {},
   "source": [
    "## PSD\n",
    "Power spectrum density"
   ]
  },
  {
   "cell_type": "code",
   "execution_count": null,
   "metadata": {},
   "outputs": [],
   "source": [
    "\n",
    "# Input\n",
    "\n",
    "dimmat = 128\n",
    "dxp = 0.0042 # Pupil plane pixel size\n",
    "r0 = .1\n",
    "L0 = 27\n",
    "D = .1\n",
    "wl = 500e-9 # [m]\n",
    "\n",
    "# Computing limit values\n",
    "FoV = 25*asec2rad # arcsec\n",
    "#Npx = 1000 # image plane pixels qty\n",
    "#Daf = asec2rad*FoV#/Npx # [rad/px]  (Numerical aperture)\n",
    "Daf = wl/(2*D) # max\n",
    "dfp = Daf/wl # [/m] Pupil plane spatial frequency pixel size (Numerical aperture/WL)\n",
    "dimpsf = 8*wl*np.sqrt((D/r0)**2 + 1)/(Daf*D)   # (min psf size) Matrix size\n",
    "print(\"Miminum matrix dimention :\",dimpsf)\n",
    "# dimmat = int(dimpsf)+int((dimpsf %1 !=0)*1)\n",
    "# dimmat += int((dimmat %2 != 0)*1)\n",
    "\n",
    "if dimmat < dimpsf:\n",
    "    print(f\"dimmat is too small: {dimmat:d}. It souhld be greater than {dimpsf:.1f}\")\n",
    "\n",
    "\n",
    "PSD = ows.psd(dimmat, dxp, r0, wl)\n",
    "# plt.close(1)\n",
    "# plt.figure(1)\n",
    "# plt.imshow(PSD**(1/8))\n",
    "# plt.title(\"Phase spectrum density ^(1/8)\")\n",
    "# plt.colorbar()"
   ]
  },
  {
   "cell_type": "markdown",
   "metadata": {},
   "source": [
    "## Phase screen & PSF"
   ]
  },
  {
   "cell_type": "code",
   "execution_count": null,
   "metadata": {},
   "outputs": [],
   "source": [
    "start = time.time()\n",
    "\n",
    "SEED = None\n",
    "\n",
    "F = 8e-3 #[m]\n",
    "N = 16\n",
    "PD = [dimmat//2-1,0]\n",
    "\n",
    "\n",
    "# Prepare seeing limited psf for normalization. It could be done inside ows.phase_screen() with the OTF directly but is not in order not to compute it every time\n",
    "\n",
    "psf_normalization_factor = ows.calculate_diffLim_psf(PD, dimmat, dxp).max()\n",
    "\n",
    "\n",
    "# status = 0\n",
    "n = 1\n",
    "for i in range(n):\n",
    "    [phase_screen, psf, pupil_mask, R] = ows.phase_screen(PSD, dxp, SEED,PD=[0,0], PUPIL = True)\n",
    "    # filename = 'data/psf_'+str(i)+'.fits'\n",
    "    # fits.writeto(filename, ows.normalize(psf)*256, overwrite=True)\n",
    "\n",
    "    [lightfield, DwDx, DwDy] = ows.SHWFS(dimmat//2, N, F, wl, pupil_mask, R, phase_screen, dxp, lenslet_pad=4)\n",
    "    # lightfield = ows.normalize(lightfield)*256\n",
    "    \n",
    "    # filename = 'data/lightfield_'+str(i)+'.fits'\n",
    "    # fits.writeto(filename, lightfield, overwrite=True)    \n",
    "    # filename = 'data/DwDx_'+str(i)+'.fits'\n",
    "    # fits.writeto(filename, DwDx, overwrite=True)\n",
    "    # filename = 'data/DwDy_'+str(i)+'.fits'\n",
    "    # fits.writeto(filename, DwDy, overwrite=True)\n",
    "\n",
    "    \n",
    "    # if 100*i//n == status*10:\n",
    "    #     print('Processing: ',status*10,'% done')\n",
    "    #     status += 1\n",
    "\n",
    "end = time.time()\n",
    "\n",
    "\n",
    "print(\"Processingtime :\",\n",
    "      (end-start) * 10**3, \"ms\")\n",
    "\n",
    "plt.close(4)\n",
    "plt.figure(4)\n",
    "plt.imshow(phase_screen)\n",
    "plt.title(\"phase screen\")\n",
    "#plt.colorbar()\n",
    "plt.show()\n",
    "\n",
    "plt.close(5)\n",
    "plt.figure(5)\n",
    "plt.imshow(psf)\n",
    "plt.title(\"PSF^(1/2)\")\n",
    "plt.colorbar()\n",
    "plt.show()\n"
   ]
  },
  {
   "cell_type": "markdown",
   "metadata": {},
   "source": [
    "# Long exposure PSF\n",
    "\n",
    "Something fishy going on. Too suceptible to dimmat"
   ]
  },
  {
   "cell_type": "code",
   "execution_count": null,
   "metadata": {},
   "outputs": [],
   "source": [
    "# dimmat = 128\n",
    "# delta_nu = 2*D/(dimmat*wl)  # Angular frequency sampling\n",
    "# nu_x = np.linspace(-dimmat/2, dimmat/2-1, dimmat) * delta_nu\n",
    "# NU_X, NU_Y = np.meshgrid(nu_x, nu_x)\n",
    "# nu = np.sqrt(NU_X**2 + NU_Y**2)\n",
    "# nu_n = nu * wl / D\n",
    "\n",
    "# otf_tsc = ows.telescope_otf(nu_n)\n",
    "# otf_atm = ows.atmospheric_otf(nu, r0, L0, wl)\n",
    "\n",
    "# otf_sl = otf_atm * otf_tsc\n",
    "\n",
    "# strehl = np.sum(otf_sl) / np.sum(otf_tsc)\n",
    "\n",
    "# padding = 2\n",
    "# otf_sl_pad = np.zeros((padding*dimmat,padding*dimmat))\n",
    "# otf_sl_pad[0:dimmat,0:dimmat] = otf_sl\n",
    "# longpsf = np.abs(np.fft.fftshift(np.fft.ifft2(np.fft.ifftshift(otf_sl_pad))))[dimmat-dimmat//2:dimmat+dimmat//2,dimmat-dimmat//2:dimmat+dimmat//2]\n",
    "# longpsf = ows.normalize(longpsf)\n",
    "# longpsf = longpsf#*strehl\n",
    "\n",
    "# otf_tsc_pad = np.zeros((padding*dimmat,padding*dimmat))\n",
    "# otf_tsc_pad[0:dimmat,0:dimmat] = otf_tsc\n",
    "# idealpsf = np.abs(np.fft.fftshift(np.fft.ifft2(np.fft.ifftshift(otf_tsc_pad))))[dimmat-dimmat//2:dimmat+dimmat//2,dimmat-dimmat//2:dimmat+dimmat//2]\n",
    "# idealpsf = ows.normalize(idealpsf)\n",
    "\n",
    "\n",
    "# plt.close(1)\n",
    "# plt.figure(1)\n",
    "# plt.imshow(psf_stack**(1/2))\n",
    "# plt.title(\"1\")\n",
    "# plt.colorbar()\n",
    "# plt.show()\n",
    "\n",
    "\n",
    "# fits.writeto('data/longpsf.fits', longpsf, overwrite=True)\n"
   ]
  },
  {
   "cell_type": "markdown",
   "metadata": {},
   "source": [
    "# Lenslet illumination mask"
   ]
  },
  {
   "cell_type": "markdown",
   "metadata": {},
   "source": [
    "# Lenslet array illumination"
   ]
  },
  {
   "cell_type": "markdown",
   "metadata": {},
   "source": [
    "# SHWFS\n",
    "\n",
    "## 1. Lenslet illumination mask\n",
    "-\n",
    "## 2. Lenslet array illumination\n",
    "Lenslet with coverage $\\geq$ 50\\% are considered.\n",
    "\n",
    "## 3. Wavefront slope\n",
    "\n",
    "\n",
    "Focal plane image:\n",
    "$$U_f= \\frac{1}{i\\lambda F}\\mathcal{F}\\{t_p(x,y)\\}$$\n",
    "\n",
    "where $t_p(x,y)$ is the object (the phase screen in this case)\n",
    "\n",
    "\n",
    "???\n",
    "\n",
    "2. Compute the spot centers\n",
    "\n",
    "$$x_{c,k} = \\frac{\\sum_{i\\in k}\\sum_{j\\in k} x_{i,j}I_{i,j}}{\\sum_{i\\in k}\\sum_{j\\in k} I_{i,j}}$$\n",
    "\n",
    "$$y_{c,k} = \\frac{\\sum_{i\\in k}\\sum_{j \\in k} y_{i,j}I_{i,j}}{\\sum_{i\\in k}\\sum_{j\\in k} I_{i,j}}$$\n",
    "\n",
    "3. Extract the WF slopes\n",
    "\n",
    "$$ \\begin{bmatrix}\\partial w /\\partial x \\\\ \\partial w/\\partial y\\end{bmatrix}_k = \\begin{bmatrix} \\beta_x\\\\\\beta_y \\end{bmatrix}_k \\approx \\frac{1}{L_H}\\begin{bmatrix} x_c - x_r\\\\y_c - y_r \\end{bmatrix}_k$$\n"
   ]
  },
  {
   "cell_type": "code",
   "execution_count": null,
   "metadata": {},
   "outputs": [],
   "source": [
    "from ows import fouriertransform as mathft\n",
    "\n",
    "### 1. focussing the sub-apetures + aperture centres\n",
    "F = 8e-3 #[m]\n",
    "N = 16\n",
    "\n",
    "[lightfield, DwDx, DyDx] = ows.SHWFS(dimmat, N, F, wl, pupil_mask, R, phase_screen, dxp, lenslet_pad=4)\n",
    "\n",
    "end = time.time()\n",
    "\n",
    "print(\"Processingtime :\",\n",
    "      (end-start) * 10**3, \"ms\")\n",
    "\n",
    "\n",
    "lightfield = ows.normalize(lightfield)\n",
    "\n",
    "plt.close(8)\n",
    "plt.figure(8)\n",
    "plt.imshow(lightfield)\n",
    "plt.title(\"padded lightfield\")\n",
    "plt.show()\n",
    "\n",
    "# plt.close(9)\n",
    "# plt.figure(9)\n",
    "# plt.subplot(1,2,1)\n",
    "# plt.imshow(DwDx)\n",
    "# plt.title(\"Dw/Dx\")\n",
    "# plt.subplot(1,2,2)\n",
    "# plt.imshow(DwDy)\n",
    "# plt.title(\"Dw/Dy\")\n",
    "# plt.show()\n",
    "\n"
   ]
  },
  {
   "cell_type": "markdown",
   "metadata": {},
   "source": [
    "# Saves"
   ]
  },
  {
   "cell_type": "code",
   "execution_count": null,
   "metadata": {},
   "outputs": [],
   "source": [
    "# phase_screen_normilized = normalize(phase_screen)\n",
    "# psf_normalized = normalize(psf)\n",
    "\n",
    "# fits.writeto('data/phase_screen.fits', phase_screen, overwrite=True)\n",
    "# fits.writeto('data/phase_screen_normalized.fits', phase_screen_normilized, overwrite=True)\n",
    "# fits.writeto('data/psf.fits', psf, overwrite=True)\n",
    "# fits.writeto('data/psf_normalized.fits', psf_normalized, overwrite=True)\n",
    "\n",
    "# input_infos = f\"ro,{r0:f},m\\nWL,{wl:g},m\\ndxp,{dxp:f},\\nseed,{1},\"\n",
    "# with open('data/inputs.txt', 'w') as f:\n",
    "#     f.write(input_infos)"
   ]
  }
 ],
 "metadata": {
  "kernelspec": {
   "display_name": ".venv",
   "language": "python",
   "name": "python3"
  },
  "language_info": {
   "codemirror_mode": {
    "name": "ipython",
    "version": 3
   },
   "file_extension": ".py",
   "mimetype": "text/x-python",
   "name": "python",
   "nbconvert_exporter": "python",
   "pygments_lexer": "ipython3",
   "version": "3.12.9"
  }
 },
 "nbformat": 4,
 "nbformat_minor": 2
}
